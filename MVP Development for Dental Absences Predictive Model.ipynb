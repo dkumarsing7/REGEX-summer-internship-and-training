{
 "cells": [
  {
   "cell_type": "code",
   "execution_count": 4,
   "id": "6f47fe36",
   "metadata": {},
   "outputs": [],
   "source": [
    "import pandas as pd\n",
    "from sklearn.model_selection import train_test_split\n",
    "from sklearn.preprocessing import StandardScaler\n",
    "from sklearn.linear_model import LogisticRegression\n",
    "from sklearn.metrics import accuracy_score, confusion_matrix, classification_report\n",
    "import joblib\n"
   ]
  },
  {
   "cell_type": "code",
   "execution_count": 8,
   "id": "0a017af8",
   "metadata": {
    "scrolled": true
   },
   "outputs": [
    {
     "name": "stdout",
     "output_type": "stream",
     "text": [
      "   appointment_id  patient_id appointment_date  absence\n",
      "0               1           9       2023-10-23        0\n",
      "1               2          10       2020-06-07        1\n",
      "2               3          14       2021-03-12        0\n",
      "3               4           2       2022-12-30        0\n",
      "4               5          12       2023-11-05        1\n"
     ]
    }
   ],
   "source": [
    "# Load data\n",
    "data = pd.read_csv('historical_data.csv')\n",
    "\n",
    "# Display first few rows\n",
    "print(data.head())\n",
    "\n",
    "# Handle missing values if any\n",
    "data = data.dropna()\n",
    "\n",
    "# Convert appointment_date to datetime\n",
    "data['appointment_date'] = pd.to_datetime(data['appointment_date'])\n",
    "\n",
    "# Feature selection and engineering\n",
    "data['day_of_week'] = data['appointment_date'].dt.dayofweek\n",
    "data['month'] = data['appointment_date'].dt.month\n",
    "data['year'] = data['appointment_date'].dt.year\n",
    "\n",
    "# Select features and target\n",
    "X = data[['day_of_week', 'month', 'year']]\n",
    "y = data['absence']\n",
    "\n",
    "# Split data into training and testing sets\n",
    "X_train, X_test, y_train, y_test = train_test_split(X, y, test_size=0.2, random_state=42)\n",
    "\n",
    "# Scale features\n",
    "scaler = StandardScaler()\n",
    "X_train = scaler.fit_transform(X_train)\n",
    "X_test = scaler.transform(X_test)\n"
   ]
  },
  {
   "cell_type": "code",
   "execution_count": 9,
   "id": "aa16d569",
   "metadata": {},
   "outputs": [
    {
     "name": "stdout",
     "output_type": "stream",
     "text": [
      "Accuracy: 0.5\n",
      "Confusion Matrix:\n",
      "[[2 2]\n",
      " [3 3]]\n",
      "Classification Report:\n",
      "              precision    recall  f1-score   support\n",
      "\n",
      "           0       0.40      0.50      0.44         4\n",
      "           1       0.60      0.50      0.55         6\n",
      "\n",
      "    accuracy                           0.50        10\n",
      "   macro avg       0.50      0.50      0.49        10\n",
      "weighted avg       0.52      0.50      0.51        10\n",
      "\n"
     ]
    },
    {
     "data": {
      "text/plain": [
       "['scaler.pkl']"
      ]
     },
     "execution_count": 9,
     "metadata": {},
     "output_type": "execute_result"
    }
   ],
   "source": [
    "# Initialize the model\n",
    "model = LogisticRegression()\n",
    "\n",
    "# Train the model\n",
    "model.fit(X_train, y_train)\n",
    "\n",
    "# Make predictions\n",
    "y_pred = model.predict(X_test)\n",
    "\n",
    "# Evaluate the model\n",
    "accuracy = accuracy_score(y_test, y_pred)\n",
    "conf_matrix = confusion_matrix(y_test, y_pred)\n",
    "class_report = classification_report(y_test, y_pred)\n",
    "\n",
    "print(f\"Accuracy: {accuracy}\")\n",
    "print(f\"Confusion Matrix:\\n{conf_matrix}\")\n",
    "print(f\"Classification Report:\\n{class_report}\")\n",
    "\n",
    "# Save the model and scaler\n",
    "joblib.dump(model, 'absence_predictor_model.pkl')\n",
    "joblib.dump(scaler, 'scaler.pkl')\n"
   ]
  },
  {
   "cell_type": "code",
   "execution_count": 2,
   "id": "9017ce59",
   "metadata": {},
   "outputs": [
    {
     "name": "stdout",
     "output_type": "stream",
     "text": [
      " * Serving Flask app \"__main__\" (lazy loading)\n",
      " * Environment: production\n",
      "\u001b[31m   WARNING: This is a development server. Do not use it in a production deployment.\u001b[0m\n",
      "\u001b[2m   Use a production WSGI server instead.\u001b[0m\n",
      " * Debug mode: on\n"
     ]
    },
    {
     "name": "stderr",
     "output_type": "stream",
     "text": [
      " * Restarting with watchdog (windowsapi)\n"
     ]
    },
    {
     "ename": "SystemExit",
     "evalue": "1",
     "output_type": "error",
     "traceback": [
      "An exception has occurred, use %tb to see the full traceback.\n",
      "\u001b[1;31mSystemExit\u001b[0m\u001b[1;31m:\u001b[0m 1\n"
     ]
    }
   ],
   "source": [
    "from flask import Flask, request, jsonify\n",
    "import joblib\n",
    "\n",
    "app = Flask(__name__)\n",
    "\n",
    "# Load the model and scaler\n",
    "model = joblib.load('absence_predictor_model.pkl')\n",
    "scaler = joblib.load('scaler.pkl')\n",
    "\n",
    "@app.route('/predict', methods=['POST'])\n",
    "def predict_absence():\n",
    "    data = request.get_json()\n",
    "    day_of_week = data['day_of_week']\n",
    "    month = data['month']\n",
    "    year = data['year']\n",
    "    \n",
    "    # Preprocess input data\n",
    "    input_data = scaler.transform([[day_of_week, month, year]])\n",
    "    \n",
    "    # Predict\n",
    "    prediction = model.predict(input_data)\n",
    "    \n",
    "    return jsonify({'absence': int(prediction[0])})\n",
    "\n",
    "if __name__ == '__main__':\n",
    "    app.run(debug=True)\n"
   ]
  },
  {
   "cell_type": "code",
   "execution_count": null,
   "id": "e60865b8",
   "metadata": {},
   "outputs": [],
   "source": []
  }
 ],
 "metadata": {
  "kernelspec": {
   "display_name": "Python 3 (ipykernel)",
   "language": "python",
   "name": "python3"
  },
  "language_info": {
   "codemirror_mode": {
    "name": "ipython",
    "version": 3
   },
   "file_extension": ".py",
   "mimetype": "text/x-python",
   "name": "python",
   "nbconvert_exporter": "python",
   "pygments_lexer": "ipython3",
   "version": "3.9.13"
  }
 },
 "nbformat": 4,
 "nbformat_minor": 5
}
